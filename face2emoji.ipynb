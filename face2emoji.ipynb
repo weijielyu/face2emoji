{
 "cells": [
  {
   "cell_type": "markdown",
   "id": "cd48ab1f",
   "metadata": {},
   "source": [
    "# Face to Emoji (CS445 Course Project)"
   ]
  },
  {
   "cell_type": "code",
   "execution_count": 1,
   "id": "87e10d9b",
   "metadata": {},
   "outputs": [],
   "source": [
    "import os\n",
    "from tqdm import tqdm\n",
    "import numpy as np\n",
    "import torch\n",
    "import torchvision\n",
    "import torch.nn as nn\n",
    "import torch.optim as optim\n",
    "from torchvision import models, datasets, transforms"
   ]
  },
  {
   "cell_type": "markdown",
   "id": "6925fd45",
   "metadata": {},
   "source": [
    "## Parameters"
   ]
  },
  {
   "cell_type": "code",
   "execution_count": 2,
   "id": "a5f1dfb7",
   "metadata": {},
   "outputs": [],
   "source": [
    "# model parameters\n",
    "NUM_EMOJI = 7\n",
    "\n",
    "# training parameters\n",
    "BATCH_SIZE = 32\n",
    "NUM_EPOCHS = 20\n",
    "LEARNING_RATE = 1e-3\n",
    "device = torch.device('cuda:0' if torch.cuda.is_available() else 'cpu')\n",
    "\n",
    "# path parameters\n",
    "DATA_PATH = './data'\n",
    "WEIGHTS_PATH = './weights'\n",
    "RESTORE = False"
   ]
  },
  {
   "cell_type": "markdown",
   "id": "c50b6e85",
   "metadata": {},
   "source": [
    "## Data"
   ]
  },
  {
   "cell_type": "code",
   "execution_count": 3,
   "id": "bf70e401",
   "metadata": {},
   "outputs": [],
   "source": [
    "# Load ImageNette dataset\n",
    "img_transform = transforms.Compose(\n",
    "    [transforms.ToTensor(),\n",
    "     transforms.Resize((224, 224))]\n",
    ")\n",
    "train_set = datasets.ImageFolder(root=\"./data/CK+48/train\", transform=img_transform)\n",
    "val_set = datasets.ImageFolder(root=\"./data/CK+48/val\", transform=img_transform)\n",
    "\n",
    "train_loader = torch.utils.data.DataLoader(train_set,\n",
    "                                          batch_size=BATCH_SIZE,\n",
    "                                          shuffle=True)\n",
    "test_loader = torch.utils.data.DataLoader(train_set,\n",
    "                                          batch_size=BATCH_SIZE,\n",
    "                                          shuffle=True)"
   ]
  },
  {
   "cell_type": "markdown",
   "id": "3082dc68",
   "metadata": {},
   "source": [
    "## Motify model"
   ]
  },
  {
   "cell_type": "code",
   "execution_count": 4,
   "id": "1460f8b2",
   "metadata": {},
   "outputs": [],
   "source": [
    "pipeline = models.resnet18(pretrained=True)\n",
    "num_ftrs = pipeline.fc.in_features\n",
    "pipeline.fc = nn.Linear(num_ftrs, NUM_EMOJI)\n",
    "pipeline = pipeline.to(device)"
   ]
  },
  {
   "cell_type": "markdown",
   "id": "2040a262",
   "metadata": {},
   "source": [
    "## Training"
   ]
  },
  {
   "cell_type": "code",
   "execution_count": 5,
   "id": "988a9203",
   "metadata": {},
   "outputs": [],
   "source": [
    "criterion = nn.CrossEntropyLoss()\n",
    "optimizer = optim.SGD(pipeline.parameters(), lr=LEARNING_RATE, momentum=0.9)"
   ]
  },
  {
   "cell_type": "code",
   "execution_count": 6,
   "id": "a8bf8cf3",
   "metadata": {},
   "outputs": [
    {
     "name": "stderr",
     "output_type": "stream",
     "text": [
      "100%|█████████████████████████████████████████████████████████████████████████| 20/20 [54:51<00:00, 164.57s/it]"
     ]
    },
    {
     "name": "stdout",
     "output_type": "stream",
     "text": [
      "Finished Training\n"
     ]
    },
    {
     "name": "stderr",
     "output_type": "stream",
     "text": [
      "\n"
     ]
    }
   ],
   "source": [
    "for epoch in tqdm(range(NUM_EPOCHS)):  # loop over the dataset multiple times\n",
    "    running_loss = 0.0\n",
    "    for i, data in enumerate(train_loader, 0):\n",
    "        # get the inputs; data is a list of [inputs, labels]\n",
    "        inputs, labels = data\n",
    "\n",
    "        # zero the parameter gradients\n",
    "        optimizer.zero_grad()\n",
    "\n",
    "        # forward + backward + optimize\n",
    "        outputs = pipeline(inputs)\n",
    "        loss = criterion(outputs, labels)\n",
    "        loss.backward()\n",
    "        optimizer.step()\n",
    "\n",
    "        # print statistics\n",
    "#         running_loss += loss.item()\n",
    "#         if i % 2000 == 1999:    # print every 2000 mini-batches\n",
    "#             print(f'[{epoch + 1}, {i + 1:5d}] loss: {running_loss / 2000:.3f}')\n",
    "#             running_loss = 0.0\n",
    "\n",
    "print('Finished Training')"
   ]
  },
  {
   "cell_type": "markdown",
   "id": "dff2d3c0",
   "metadata": {},
   "source": [
    "## Save model"
   ]
  },
  {
   "cell_type": "code",
   "execution_count": 7,
   "id": "fb15bd03",
   "metadata": {},
   "outputs": [],
   "source": [
    "WEIGHTS_PATH = \"./weights/resnet18_weights.pth\""
   ]
  },
  {
   "cell_type": "code",
   "execution_count": 8,
   "id": "8d637837",
   "metadata": {},
   "outputs": [],
   "source": [
    "torch.save(pipeline.state_dict(), WEIGHTS_PATH)"
   ]
  },
  {
   "cell_type": "markdown",
   "id": "a203ad02",
   "metadata": {},
   "source": [
    "## Load model"
   ]
  },
  {
   "cell_type": "code",
   "execution_count": null,
   "id": "558524a4",
   "metadata": {},
   "outputs": [],
   "source": [
    "pipeline = models.resnet18(pretrained=True)\n",
    "num_ftrs = pipeline.fc.in_features\n",
    "pipeline.fc = nn.Linear(num_ftrs, NUM_EMOJI)\n",
    "pipeline = pipeline.to(device)\n",
    "\n",
    "model.load_state_dict(torch.load(WEIGHTS_PATH))\n",
    "model.eval()"
   ]
  },
  {
   "cell_type": "markdown",
   "id": "69b9fc5b",
   "metadata": {},
   "source": [
    "## test"
   ]
  },
  {
   "cell_type": "raw",
   "id": "c1a6ecfa",
   "metadata": {},
   "source": [
    "correct = 0\n",
    "total = 0\n",
    "for i, data in enumerate(test_loader, 0):\n",
    "    # get the inputs; data is a list of [inputs, labels]\n",
    "    inputs, labels = data\n",
    "    # predict\n",
    "    outputs = pipeline(inputs).detach()\n",
    "    preds = np.argmax(outputs, axis=1)\n",
    "    for j in range(len(preds)):\n",
    "        total += 1\n",
    "        if labels[j] == preds[j]:\n",
    "            correct += 1\n",
    "print(\"accuracy: \", correct / total)"
   ]
  },
  {
   "cell_type": "code",
   "execution_count": null,
   "id": "2ed17c2f",
   "metadata": {},
   "outputs": [],
   "source": []
  }
 ],
 "metadata": {
  "kernelspec": {
   "display_name": "Python 3 (ipykernel)",
   "language": "python",
   "name": "python3"
  },
  "language_info": {
   "codemirror_mode": {
    "name": "ipython",
    "version": 3
   },
   "file_extension": ".py",
   "mimetype": "text/x-python",
   "name": "python",
   "nbconvert_exporter": "python",
   "pygments_lexer": "ipython3",
   "version": "3.8.12"
  }
 },
 "nbformat": 4,
 "nbformat_minor": 5
}
