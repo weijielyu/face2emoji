{
 "cells": [
  {
   "cell_type": "markdown",
   "id": "cd48ab1f",
   "metadata": {},
   "source": [
    "# Face to Emoji (CS445 Course Project)"
   ]
  },
  {
   "cell_type": "code",
   "execution_count": null,
   "id": "87e10d9b",
   "metadata": {},
   "outputs": [],
   "source": [
    "import os\n",
    "import torch\n",
    "import torchvision\n",
    "from torchvision import models, datasets, transforms"
   ]
  },
  {
   "cell_type": "markdown",
   "id": "6925fd45",
   "metadata": {},
   "source": [
    "## Parameters"
   ]
  },
  {
   "cell_type": "code",
   "execution_count": null,
   "id": "a5f1dfb7",
   "metadata": {},
   "outputs": [],
   "source": [
    "# model parameters\n",
    "NUM_EMOJI =   \n",
    "\n",
    "# training parameters\n",
    "NUM_BATCH = 128\n",
    "NUM_EPOCHS = 200\n",
    "LEARNING_RATE = 1e-3\n",
    "device = torch.device('cuda:0' if torch.cuda.is_available() else 'cpu')\n",
    "\n",
    "# path parameters\n",
    "DATA_PATH = './data'\n",
    "WEIGHTS_PATH = './weights'\n",
    "RESTORE = False"
   ]
  },
  {
   "cell_type": "markdown",
   "id": "c50b6e85",
   "metadata": {},
   "source": [
    "## Data"
   ]
  },
  {
   "cell_type": "code",
   "execution_count": null,
   "id": "bf70e401",
   "metadata": {},
   "outputs": [],
   "source": [
    "if not os.path.isdir(DATA_PATH):\n",
    "    os.makedirs(DATA_PATH)\n",
    "\n",
    "train_data = torch.utils.data.DataLoader(\n",
    "                datasets.CelebA(DATA_PATH, train=True, download=True,\n",
    "                               transform=transforms.ToTensor()),\n",
    "                batch_size=NUM_BATCH, shuffle=True) \n",
    "test_data = torch.utils.data.DataLoader(\n",
    "                datasets.MNIST(DATA_PATH, train=False, download=True,\n",
    "                               transform=transforms.ToTensor()),\n",
    "                batch_size=NUM_BATCH, shuffle=True) "
   ]
  },
  {
   "cell_type": "markdown",
   "id": "3082dc68",
   "metadata": {},
   "source": [
    "## Motify model"
   ]
  },
  {
   "cell_type": "code",
   "execution_count": null,
   "id": "1460f8b2",
   "metadata": {},
   "outputs": [],
   "source": [
    "pipeline = models.resnet18(pretrained=True)\n",
    "num_ftrs = pipeline.fc.in_features\n",
    "pipeline.fc = nn.Linear(num_ftrs, NUM_EMOJI)\n",
    "pipeline = pipeline.to(device)"
   ]
  }
 ],
 "metadata": {
  "kernelspec": {
   "display_name": "Python 3 (ipykernel)",
   "language": "python",
   "name": "python3"
  },
  "language_info": {
   "codemirror_mode": {
    "name": "ipython",
    "version": 3
   },
   "file_extension": ".py",
   "mimetype": "text/x-python",
   "name": "python",
   "nbconvert_exporter": "python",
   "pygments_lexer": "ipython3",
   "version": "3.8.12"
  }
 },
 "nbformat": 4,
 "nbformat_minor": 5
}
